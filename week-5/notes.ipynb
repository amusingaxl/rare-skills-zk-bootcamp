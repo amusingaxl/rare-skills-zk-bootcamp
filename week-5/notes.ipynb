{
 "cells": [
  {
   "cell_type": "markdown",
   "metadata": {},
   "source": [
    "# Circuits\n",
    "\n",
    "Q: Why were we focusing so much in Elliptic Curves?\n",
    "R: \"Encrypted\" addition and multiplication\n",
    "\n",
    "This provides a way to ZK-prove things like:\n",
    "- I have two numbers that add up to $R$\n",
    "- I know the solution to a system of equations\n",
    "\n",
    "> We can model certain problems as a combination of additions and multiplications."
   ]
  },
  {
   "cell_type": "markdown",
   "metadata": {},
   "source": [
    "## Thinking of a new programming language\n",
    "\n",
    "Statement: I have a vector $v$ that contains only ones and zeros.\n",
    "\n",
    "With a \"traditional\" programming language, we could have:\n",
    "\n",
    "```rust\n",
    "func is_binary(v: vec<u32>) -> bool {\n",
    "    for i in v {\n",
    "        assert i == 0 || i == 1\n",
    "    }\n",
    "}\n",
    "```\n",
    "\n",
    "In mathematical language, we need to figure out how to express $a = 0 \\lor a = 1$.\n",
    "\n",
    "We can do so using the following equation:\n",
    "\n",
    "$$\n",
    "a \\cdot (1 - a) = 0\n",
    "$$\n",
    "\n",
    "Notice how that equation is true if, and only if, $a = 0$ or $a = 1$.\n",
    "\n",
    "Back to the vector case, we can generalize the expression above as:\n",
    "\n",
    "$$\n",
    "v_1(1 - v_1) = 0 \\\\\n",
    "v_2(1 - v_2) = 0 \\\\\n",
    "\\vdots \\\\\n",
    "v_n(1 - v_n) = 0 \\\\\n",
    "$$"
   ]
  },
  {
   "cell_type": "markdown",
   "metadata": {},
   "source": [
    "> In general, ZK is only concerned about the verification of the problem being solved, not finding the solution itself."
   ]
  }
 ],
 "metadata": {
  "kernelspec": {
   "display_name": ".venv",
   "language": "python",
   "name": "python3"
  },
  "language_info": {
   "codemirror_mode": {
    "name": "ipython",
    "version": 3
   },
   "file_extension": ".py",
   "mimetype": "text/x-python",
   "name": "python",
   "nbconvert_exporter": "python",
   "pygments_lexer": "ipython3",
   "version": "3.11.8"
  }
 },
 "nbformat": 4,
 "nbformat_minor": 2
}
