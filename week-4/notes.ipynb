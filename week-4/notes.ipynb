{
 "cells": [
  {
   "cell_type": "markdown",
   "metadata": {},
   "source": [
    "### How numbers are encrypted\n",
    "\n",
    "When a scalar is multiplied by a point on an elliptic curve, another elliptic curve point is produced. That is $P = pG$, where $p$ is a scalar and $G$ is the generator. Given $P$ and $G$, we cannot determine $p$.\n",
    "\n",
    "Assume $pq = r$ and $P = pG$, $Q = qG$ and $R = rG$, then we want a function $f$ such that:\n",
    "$f(P,Q) = R$ and $f(P,Q) \\not = R$ when $pq \\not = r$, $\\forall p,q \\in G$.\n",
    "\n",
    "However, this is typically expressed as:\n",
    "$$\n",
    "f(P,Q) = f (R, G)\n",
    "$$\n",
    "where $G$ is the generator point, and can be thought of as \"1\" for the pairing operation ($P \\times Q = R \\times 1$)."
   ]
  },
  {
   "cell_type": "markdown",
   "metadata": {},
   "source": [
    "### Bilinearity\n",
    "\n",
    "$$\n",
    "f(aG, bG)  = f(abG, G) = f(G, abG)\n",
    "$$\n",
    "\n",
    "The essential property of bilinear pairings is that if you plug in two points that are multiples of the generator point ($aG$, $bG$), the result is equal to plugging in the product of those two numbers times the generator point ($abG$) and the generator point itself ($G$).\n",
    "\n",
    "In the literature, what we are calling $f$ is usually written as $e$ as the following:\n",
    "$$\n",
    "e: G \\times G \\rightarrow G_{T}\n",
    "$$\n",
    "The subscript $T$ means it is the \"target group\". To respect the literature, we will write the above as:\n",
    "$$\n",
    "e(aG, bG) = e(abG, G) = e(G, abG)\n",
    "$$"
   ]
  },
  {
   "cell_type": "markdown",
   "metadata": {},
   "source": [
    "### Symmetric and Asymmetric Groups\n",
    "\n",
    "The notation above implies that we are using the same generator and elliptic curve groups everywhere when we say:\n",
    "$$\n",
    "e(aG, bG) = e(abG, G)\n",
    "$$\n",
    "In practice however, it turns out to be easier to create bilinear pairings when using a different group for both of the arguments and the output result. Specifically we say:\n",
    "$$\n",
    "e(a, b) \\rightarrow c, a \\in G, b \\in G', c \\in G''\n",
    "$$\n",
    "None of the groups used are the same.\n",
    "However, the property we care about still holds:\n",
    "$$\n",
    "e(aG, bG') = e(abG, G') = e(G, abG')\n",
    "$$\n",
    "Notice how group $G''$ is not explicitly mentioned, but that is the co-domain of $e(G, G')$.\n",
    "\n",
    "In a symmetric pairing, the same group is used for both arguments. On the other hand, in asymmetric pairing, the arguments use different groups."
   ]
  },
  {
   "cell_type": "markdown",
   "metadata": {},
   "source": [
    "### Field Extensions\n",
    "\n",
    "Bilinear pairings are agnostic to the kind of groups you opt for, but EVM's bilinear pairing uses elliptic curves with _field extensions_.\n",
    "Usually an EC point is though of as *one* pair $(x,y)$. With field extensions, they consist of several $(x,y)$ pairs.\n",
    "> Elliptic Curve \"points\" with more than 2 dimensions.\n",
    "We usually represent them as vectors:\n",
    "```solidity\n",
    "struct G2Point {\n",
    "    uint256 X[2];\n",
    "    uint256 Y[2];\n",
    "}\n",
    "```\n",
    "\n",
    "While it might seems weird at first, it still has the same properties of a cyclic group:\n",
    "- Closed under addition, which is associative\n",
    "- An identity element\n",
    "- Each element is invertible\n",
    "- There is a generator\n",
    "\n",
    "Notice that the bilinearity property is hard to get. The chances that $e(aG, bG') = e(abG, G') = e(G, abG')$ is true for three random groups are pretty slim."
   ]
  },
  {
   "cell_type": "markdown",
   "metadata": {},
   "source": [
    "---"
   ]
  },
  {
   "cell_type": "markdown",
   "metadata": {},
   "source": [
    "### Bilinear Pairings in Python"
   ]
  },
  {
   "cell_type": "code",
   "execution_count": 4,
   "metadata": {},
   "outputs": [
    {
     "name": "stdout",
     "output_type": "stream",
     "text": [
      "(1, 2)\n",
      "((10857046999023057135944570762232829481370756359578518086990519993285655852781, 11559732032986387107991004021392285783925812861821192530917403151452391805634), (8495653923123431417604973247489272438418190587263600148770280649306958101930, 4082367875863433681332203403145435568316851327593401208105741076214120093531))\n"
     ]
    }
   ],
   "source": [
    "from py_ecc.bn128 import G1, G2, pairing, add, multiply, eq\n",
    "print(G1)\n",
    "print(G2)"
   ]
  },
  {
   "cell_type": "markdown",
   "metadata": {},
   "source": [
    "Testing some identities:"
   ]
  },
  {
   "cell_type": "code",
   "execution_count": 7,
   "metadata": {},
   "outputs": [
    {
     "name": "stdout",
     "output_type": "stream",
     "text": [
      "True\n",
      "True\n"
     ]
    }
   ],
   "source": [
    "print(eq(add(G1, G1), multiply(G1, 2)))\n",
    "print(eq(add(G2, G2), multiply(G2, 2)))"
   ]
  },
  {
   "cell_type": "markdown",
   "metadata": {},
   "source": [
    "Now let's go to the good part: pairing!"
   ]
  },
  {
   "cell_type": "code",
   "execution_count": 12,
   "metadata": {},
   "outputs": [
    {
     "name": "stdout",
     "output_type": "stream",
     "text": [
      "(2737733771970589720147436295258995541017562764748775046990018238171083065584, 7355949162177082646197064865377481127039528955264110892670278171102027012957, 1389120597320745437757553030085914762401499323567753964656133081964131780715, 4070774491543958907062047566637569178763974576144707726129772744684275725184, 10823414137019623021013733227099721415368303324105358213304652659949682568395, 12697986880222911287030392175914090722292212037466224705879408804162602333706, 17697943997237703208660786428217562403504798830995307420075922564993565300645, 2702065915136914071855531840006964465333491722231468583849464437921405019853, 6762652910450025398171695126080749677225757293012137750262928324249233167133, 9495821522287762858490254871883860235240788822777455638443279749602676973720, 17813117134675140440034537765301248350834713246854720915775731738875700896539, 21027635025043266481235488683404016989778194881701554135606154029160033599034)\n"
     ]
    }
   ],
   "source": [
    "A = multiply(G2, 5)\n",
    "B = multiply(G1, 6)\n",
    "print(pairing(A, B))"
   ]
  },
  {
   "cell_type": "markdown",
   "metadata": {},
   "source": [
    "Thankfully, we have need to see the result of `pairing(A, B)`, we can simply do the following:"
   ]
  },
  {
   "cell_type": "code",
   "execution_count": 14,
   "metadata": {},
   "outputs": [
    {
     "data": {
      "text/plain": [
       "True"
      ]
     },
     "execution_count": 14,
     "metadata": {},
     "output_type": "execute_result"
    }
   ],
   "source": [
    "A = multiply(G2, 5)\n",
    "B = multiply(G1, 6)\n",
    "C = multiply(G2, 5 * 6)\n",
    "\n",
    "pairing(A, B) == pairing(C, G1)"
   ]
  },
  {
   "cell_type": "markdown",
   "metadata": {},
   "source": [
    "So if we want to be mathematical about this, our bn128 pairing does the following:\n",
    "$$\n",
    "e: G1 \\times G2 \\rightarrow G12\n",
    "$$"
   ]
  },
  {
   "cell_type": "markdown",
   "metadata": {},
   "source": [
    "### Bilinear Pairings in Ethereum\n",
    "\n",
    "The `py_ecc` library is maintained by the Ethereum Foundation and it powers the precompile at address`0x8` in the PyEVM implementation.\n",
    "\n",
    "The Ethereum Precompile defined in [EIP-197](https://eips.ethereum.org/EIPS/eip-197) works on points in $G1$ and $G2$ and _implicitly_ works on points in $G12$.\n",
    "\n",
    "The specification of this precompile will seem a little weird at first. It takes a list of $G1$ and $G2$ points, laid out as follows:\n",
    "\n",
    "$$\n",
    "A_1B_1A_2B_2 \\ldots A_nB_n\n",
    "$$\n",
    "\n",
    "These were originally created as:\n",
    "$$\n",
    "A_1 = a_1G1 \\\\\n",
    "B_1 = b_1G2 \\\\\n",
    "A_2 = a_2G1 \\\\\n",
    "B_2 = b_2G2 \\\\\n",
    "\\ldots \\\\\n",
    "A_n = a_nG1 \\\\\n",
    "B_n = b_nG2\n",
    "$$\n",
    "\n",
    "The precompile returns $1$ if the following is true:\n",
    "$$\n",
    "a_1b_1 + a_2b_2 + \\ldots + a_nb_n = 0\n",
    "$$\n",
    "and $0$ otherwise.\n",
    "\n",
    "The reasons to have that instead of a general wrapper around $e: G1 \\times G2 \\rightarrow G12$ are:\n",
    "1. $G12$ points are huge (12 pairs of coordinates = $12 \\times 2 \\times 128 = 3072$ bits), which would be very expensive to store or process at the EVM level.\n",
    "2. Most ZK verification algorithms do not check for the value of the output of a pairing, but only that it is equal to the sum of other pairings.\n",
    "\n",
    "For instance, the final step in `groth16`  (the ZK algorithm used by Tornado Cash) looks like the following:\n",
    "$$\n",
    "e(A_1, B_2) = e(\\alpha_{1}, \\beta_{2}) + e(L_{1}, \\gamma_{2}) + e(C_{1}, \\delta_{2})\n",
    "$$\n",
    "WHere each variable is a point in either $G1$ or $G2$ based on its subscript notation.\n",
    "If we manipulate the expression above, we can write it as:\n",
    "$$\n",
    "0 = e(-A_{1}, B_{2}) + e(\\alpha_{1}, \\beta_{2}) + e(L_{1}, \\gamma_{2}) + e(C_{1}, \\delta_{2})\n",
    "$$\n",
    "which matches the precompile.\n",
    "\n",
    "If we look at the [verification code](https://github.com/tornadocash/tornado-core/blob/master/contracts/Verifier.sol#L192-L230) from Tornado Cash, we can see it implements exactly this (even the greek letters match!):\n",
    "\n",
    "```solidity\n",
    "Pairing.pairing(\n",
    "    Pairing.negate(_proof.A), // -A\n",
    "    _proof.B, \n",
    "    vk.alfa1,\n",
    "    vk.beta2,\n",
    "    vk_x,\n",
    "    vk.gamma2,\n",
    "    _proof.C,\n",
    "    vk.delta2\n",
    "  );\n",
    "}\n",
    "```\n",
    "\n",
    "Notice that `proof.A`, `proof.B` and `proof.C` derived from the `proof` param and `vk_x` is computed from the `input` param."
   ]
  },
  {
   "cell_type": "markdown",
   "metadata": {},
   "source": [
    "### Sum of preimages\n",
    "The key insight here is that if:\n",
    "$$\n",
    "ab + cd = 0\n",
    "$$\n",
    "Then it must also be true that:\n",
    "$$\n",
    "A_1B_2 + C_1D_2 = 0_{12} \\hspace{0.5cm} A_1,C_1 \\in G1, B_2, D_2, \\in G2\n",
    "$$\n",
    "in $G12$ space.\n",
    "\n",
    "The sum of pairings is zero if and only if the sum of the products of the discrete logarithms is zero."
   ]
  },
  {
   "cell_type": "markdown",
   "metadata": {},
   "source": [
    "### Homework assignment"
   ]
  },
  {
   "cell_type": "code",
   "execution_count": 30,
   "metadata": {},
   "outputs": [
    {
     "name": "stdout",
     "output_type": "stream",
     "text": [
      "((10857046999023057135944570762232829481370756359578518086990519993285655852781, 11559732032986387107991004021392285783925812861821192530917403151452391805634), (8495653923123431417604973247489272438418190587263600148770280649306958101930, 4082367875863433681332203403145435568316851327593401208105741076214120093531))\n",
      "G2 = G2Point([uint256(10857046999023057135944570762232829481370756359578518086990519993285655852781), uint256(8495653923123431417604973247489272438418190587263600148770280649306958101930)], [uint256(11559732032986387107991004021392285783925812861821192530917403151452391805634), uint256(4082367875863433681332203403145435568316851327593401208105741076214120093531)])\n",
      "((18029695676650738226693292988307914797657423701064905010927197838374790804409, 14583779054894525174450323658765874724019480979794335525732096752006891875705), (2140229616977736810657479771656733941598412651537078903776637920509952744750, 11474861747383700316476719153975578001603231366361248090558603872215261634898))\n",
      "alpha1 = G1Point(1, 2)\n",
      "beta2 = G2Point([uint256(18029695676650738226693292988307914797657423701064905010927197838374790804409), uint256(2140229616977736810657479771656733941598412651537078903776637920509952744750)], [uint256(14583779054894525174450323658765874724019480979794335525732096752006891875705), uint256(11474861747383700316476719153975578001603231366361248090558603872215261634898)])\n",
      "gamma2 = G2Point([uint256(2725019753478801796453339367788033689375851816420509565303521482350756874229), uint256(2512659008974376214222774206987427162027254181373325676825515531566330959255)], [uint256(7273165102799931111715871471550377909735733521218303035754523677688038059653), uint256(957874124722006818841961785324909313781880061366718538693995380805373202866)])\n",
      "delta2 = G2Point([uint256(18936818173480011669507163011118288089468827259971823710084038754632518263340), uint256(18825831177813899069786213865729385895767511805925522466244528695074736584695)], [uint256(18556147586753789634670778212244811446448229326945855846642767021074501673839), uint256(13775476761357503446238925910346030822904460488609979964814810757616608848118)])\n",
      "88\n",
      "A1 = G1Point(19033251874843656108471242320417533909414939332036131356573128480367742634479, 20792135454608030201903199625673964159744755218442260092768620403349374102584)\n",
      "B2 = G2Point([uint256(11166086885672626473267565287145132336823242144708474818695443831501089511977), uint256(10576778712883087908382530888778326306865681986179249638025895353796469496812)], [uint256(1513450333913810775282357068930057790874607011341873340507105465411024430745), uint256(20245151454212206884108313452940569906396451322269011731680309881579291004202)])\n",
      "C1 = G1Point(3932705576657793550893430333273221375907985235130430286685735064194643946083, 18813763293032256545937756946359266117037834559191913266454084342712532869153)\n",
      "x1 =  5\n",
      "x2 =  6\n",
      "x3 =  7\n"
     ]
    }
   ],
   "source": [
    "from py_ecc.bn128 import neg, add, multiply, G1, G2, final_exponentiate, FQ12, pairing\n",
    "\n",
    "(G2_x1, G2_y1) = G2[0].coeffs\n",
    "(G2_x2, G2_y2) = G2[1].coeffs\n",
    "print(G2)\n",
    "print(\"G2 = G2Point([uint256(%d), uint256(%d)], [uint256(%d), uint256(%d)])\"%(G2_x1, G2_x2, G2_y1, G2_y2))\n",
    "\n",
    "\n",
    "alpha = 1\n",
    "beta = 2\n",
    "gamma = 3\n",
    "delta = 4\n",
    "\n",
    "c = 8\n",
    "x1 = 5\n",
    "x2 = 6\n",
    "x3 = 7\n",
    "xTotal = x1 + x2 + x3\n",
    "\n",
    "# negate G1 * a to make the equation sum up to 0\n",
    "\n",
    "alpha1 = multiply(G1, alpha)\n",
    "beta2 = multiply(G2, beta)\n",
    "print(beta2)\n",
    "gamma2 = multiply(G2, gamma)\n",
    "delta2 = multiply(G2, delta)\n",
    "\n",
    "(aG1_x, aG1_y) = alpha1\n",
    "(bG2_x1, bG2_y1) = beta2[0].coeffs\n",
    "(bG2_x2, bG2_y2) = beta2[1].coeffs\n",
    "(cG2_x1, cG2_y1) = gamma2[0].coeffs\n",
    "(cG2_x2, cG2_y2) = gamma2[1].coeffs\n",
    "(dG2_x1, dG2_y1) = delta2[0].coeffs\n",
    "(dG2_x2, dG2_y2) = delta2[1].coeffs\n",
    "\n",
    "print(\"alpha1 = G1Point(%d, %d)\"%(aG1_x, aG1_y))\n",
    "print(\"beta2 = G2Point([uint256(%d), uint256(%d)], [uint256(%d), uint256(%d)])\"%(bG2_x1, bG2_x2, bG2_y1, bG2_y2))\n",
    "print(\"gamma2 = G2Point([uint256(%d), uint256(%d)], [uint256(%d), uint256(%d)])\"%(cG2_x1, cG2_x2, cG2_y1, cG2_y2))\n",
    "print(\"delta2 = G2Point([uint256(%d), uint256(%d)], [uint256(%d), uint256(%d)])\"%(dG2_x1, dG2_x2, dG2_y1, dG2_y2))\n",
    "\n",
    "# We know that\n",
    "# assert a * b == (alpha * beta) + (xTotal * gamma) + (c * delta)\n",
    "# where xTotal = x1 + x2 + x3\n",
    "\n",
    "rhs = (alpha * beta + (xTotal * gamma) + (c * delta))\n",
    "print(rhs)\n",
    "\n",
    "## a = 227\n",
    "## b = 8\n",
    "\n",
    "def validatePairing(A1, B2, C1, x1, x2, x3):\n",
    "    Z1 = add(add(multiply(G1, x1), multiply(G1, x2)), multiply(G1, x3))\n",
    "    assert(Z1 == multiply(G1, x1 + x2 + x3))\n",
    "    # use final_exponentiate to pair\n",
    "    assert final_exponentiate(pairing(B2, neg(A1)) * pairing(beta2, alpha1) * pairing(gamma2, Z1) * pairing(delta2, C1)) == FQ12.one()\n",
    "\n",
    "a = 11\n",
    "b = 8\n",
    "\n",
    "assert 0 == -a*b + alpha*beta + (x1 + x2 + x3)*gamma + c * delta\n",
    "\n",
    "A1 = multiply(G1, a)\n",
    "B2 = multiply(G2, b)\n",
    "C1 = multiply(G1, c)\n",
    "\n",
    "# validatePairing(A1, B2, C1, x1, x2, x3)\n",
    "\n",
    "(B2_x1, B2_y1) = B2[0].coeffs\n",
    "(B2_x2, B2_y2) = B2[1].coeffs\n",
    "\n",
    "print(\"A1 = G1Point(%d, %d)\"%A1)\n",
    "print(\"B2 = G2Point([uint256(%d), uint256(%d)], [uint256(%d), uint256(%d)])\"%(B2_x1, B2_x2, B2_y1, B2_y2))\n",
    "print(\"C1 = G1Point(%d, %d)\"%C1)\n",
    "print(\"x1 = \", x1)\n",
    "print(\"x2 = \", x2)\n",
    "print(\"x3 = \", x3)"
   ]
  }
 ],
 "metadata": {
  "kernelspec": {
   "display_name": ".venv",
   "language": "python",
   "name": "python3"
  },
  "language_info": {
   "codemirror_mode": {
    "name": "ipython",
    "version": 3
   },
   "file_extension": ".py",
   "mimetype": "text/x-python",
   "name": "python",
   "nbconvert_exporter": "python",
   "pygments_lexer": "ipython3",
   "version": "3.11.7"
  }
 },
 "nbformat": 4,
 "nbformat_minor": 2
}
